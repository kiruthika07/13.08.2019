{
 "cells": [
  {
   "cell_type": "code",
   "execution_count": 4,
   "metadata": {},
   "outputs": [
    {
     "data": {
      "image/png": "[encoded data removed]",
      "text/plain": [
       "<Figure size 432x288 with 1 Axes>"
      ]
     },
     "metadata": {
      "needs_background": "light"
     },
     "output_type": "display_data"
    }
   ],
   "source": [
    "import matplotlib.pyplot as plt\n",
    "import numpy as np\n",
    "import copy\n",
    "\n",
    "X = [[1,1],[2,1],[2,2],[3,2]]\n",
    "X=np.array(X)\n",
    "\n",
    "plt.plot(X[:,0], X[:,1],'o-')\n",
    "plt.title('Dataset')\n",
    "plt.xlabel('X')\n",
    "plt.ylabel('Y')\n",
    "plt.show()"
   ]
  },
  {
   "cell_type": "code",
   "execution_count": 5,
   "metadata": {},
   "outputs": [
    {
     "data": {
      "text/plain": [
       "array([[-1. , -0.5],\n",
       "       [ 0. , -0.5],\n",
       "       [ 0. ,  0.5],\n",
       "       [ 1. ,  0.5]])"
      ]
     },
     "execution_count": 5,
     "metadata": {},
     "output_type": "execute_result"
    }
   ],
   "source": [
    "Xmean = np.mean(X[:,0])\n",
    "Ymean = np.mean(X[:,1])\n",
    "\n",
    "msubX = X[:,0] - Xmean\n",
    "msubY = X[:,1] - Ymean\n",
    "\n",
    "msubData = np.column_stack((msubX,msubY))\n",
    "msubData\n"
   ]
  },
  {
   "cell_type": "code",
   "execution_count": 7,
   "metadata": {},
   "outputs": [
    {
     "data": {
      "image/png": "[encoded data removed]",
      "text/plain": [
       "<Figure size 432x288 with 1 Axes>"
      ]
     },
     "metadata": {
      "needs_background": "light"
     },
     "output_type": "display_data"
    }
   ],
   "source": [
    "plt.plot(msubData[:,0], msubData[:,1],'.r-')\n",
    "plt.title('Mean SubtractedDataset')\n",
    "plt.xlabel('X - X_Mean')\n",
    "plt.ylabel('Y - Y_Mean')\n",
    "plt.show()"
   ]
  },
  {
   "cell_type": "code",
   "execution_count": 11,
   "metadata": {},
   "outputs": [
    {
     "data": {
      "text/plain": [
       "0.6666666666666666"
      ]
     },
     "execution_count": 11,
     "metadata": {},
     "output_type": "execute_result"
    }
   ],
   "source": [
    "VarX = 0\n",
    "\n",
    "for ele in msubData[:,0]:\n",
    "    VarX = VarX + ele*ele\n",
    "    \n",
    "VarX = VarX/3\n",
    "VarX"
   ]
  },
  {
   "cell_type": "code",
   "execution_count": 12,
   "metadata": {},
   "outputs": [
    {
     "data": {
      "text/plain": [
       "0.3333333333333333"
      ]
     },
     "execution_count": 12,
     "metadata": {},
     "output_type": "execute_result"
    }
   ],
   "source": [
    "VarY = 0 \n",
    "for ele in msubData[:,1]:\n",
    "    VarY = VarY + ele*ele\n",
    "VarY = VarY/3\n",
    "VarY"
   ]
  },
  {
   "cell_type": "code",
   "execution_count": 13,
   "metadata": {},
   "outputs": [
    {
     "data": {
      "text/plain": [
       "0.3333333333333333"
      ]
     },
     "execution_count": 13,
     "metadata": {},
     "output_type": "execute_result"
    }
   ],
   "source": [
    "VarXY = 0\n",
    "for ele,ele1 in msubData[:]:\n",
    "    VarXY = VarXY + ele*ele1\n",
    "    \n",
    "VarXY = VarXY/3\n",
    "VarXY"
   ]
  },
  {
   "cell_type": "code",
   "execution_count": 14,
   "metadata": {},
   "outputs": [
    {
     "data": {
      "text/plain": [
       "array([[0.66666667, 0.33333333],\n",
       "       [0.33333333, 0.33333333]])"
      ]
     },
     "execution_count": 14,
     "metadata": {},
     "output_type": "execute_result"
    }
   ],
   "source": [
    "Cmat = np.column_stack(([VarX,VarXY],[VarXY,VarY]))\n",
    "Cmat"
   ]
  },
  {
   "cell_type": "code",
   "execution_count": 15,
   "metadata": {},
   "outputs": [
    {
     "data": {
      "text/plain": [
       "array([[ 1.25,  0.25, -0.25, -1.25],\n",
       "       [ 0.25,  0.25, -0.25, -0.25],\n",
       "       [-0.25, -0.25,  0.25,  0.25],\n",
       "       [-1.25, -0.25,  0.25,  1.25]])"
      ]
     },
     "execution_count": 15,
     "metadata": {},
     "output_type": "execute_result"
    }
   ],
   "source": [
    "Cmatprod = np.dot(msubData,msubData.T)\n",
    "Cmatprod"
   ]
  },
  {
   "cell_type": "code",
   "execution_count": 16,
   "metadata": {},
   "outputs": [
    {
     "name": "stdout",
     "output_type": "stream",
     "text": [
      "[ 2.61803399e+00  3.81966011e-01 -9.45799730e-17 -2.55373581e-17]\n",
      "[[-0.68819096  0.16245985  0.67618941  0.02708022]\n",
      " [-0.16245985 -0.68819096  0.20680399  0.70658804]\n",
      " [ 0.16245985  0.68819096  0.20680399  0.70658804]\n",
      " [ 0.68819096 -0.16245985  0.67618941  0.02708022]]\n"
     ]
    }
   ],
   "source": [
    "eigenval, eigenvec = np.linalg.eig(Cmatprod)\n",
    "print(eigenval)\n",
    "print(eigenvec)"
   ]
  },
  {
   "cell_type": "code",
   "execution_count": 17,
   "metadata": {},
   "outputs": [
    {
     "name": "stdout",
     "output_type": "stream",
     "text": [
      "[[-0.68819096]\n",
      " [-0.16245985]\n",
      " [ 0.16245985]\n",
      " [ 0.68819096]]\n",
      "2.6180339887498945\n"
     ]
    }
   ],
   "source": [
    "evec=eigenvec[:,[0]]\n",
    "print(evec)\n",
    "\n",
    "e_val=eigenval[0]\n",
    "print(e_val)"
   ]
  },
  {
   "cell_type": "code",
   "execution_count": 18,
   "metadata": {},
   "outputs": [
    {
     "name": "stdout",
     "output_type": "stream",
     "text": [
      "[[-1.11351636]\n",
      " [-0.26286556]\n",
      " [ 0.26286556]\n",
      " [ 1.11351636]]\n"
     ]
    }
   ],
   "source": [
    "import math\n",
    "mdsproj=math.sqrt(e_val)*evec\n",
    "print(mdsproj)"
   ]
  },
  {
   "cell_type": "code",
   "execution_count": 21,
   "metadata": {},
   "outputs": [
    {
     "name": "stdout",
     "output_type": "stream",
     "text": [
      "[[0.         1.         1.41421356 2.23606798]\n",
      " [1.         0.         1.         1.41421356]\n",
      " [1.41421356 1.         0.         1.        ]\n",
      " [2.23606798 1.41421356 1.         0.        ]]\n",
      "[[0.         0.85065081 1.37638192 2.22703273]\n",
      " [0.85065081 0.         0.52573111 1.37638192]\n",
      " [1.37638192 0.52573111 0.         0.85065081]\n",
      " [2.22703273 1.37638192 0.85065081 0.        ]]\n"
     ]
    }
   ],
   "source": [
    "from sklearn.metrics.pairwise import euclidean_distances\n",
    "euc_dis_original=euclidean_distances(msubData, msubData)\n",
    "print(euc_dis_original)\n",
    "euc_dis_mod=euclidean_distances(mdsproj, mdsproj)\n",
    "print(euc_dis_mod)"
   ]
  },
  {
   "cell_type": "code",
   "execution_count": 23,
   "metadata": {},
   "outputs": [
    {
     "data": {
      "image/png": "[encoded data removed]",
      "text/plain": [
       "<Figure size 432x288 with 1 Axes>"
      ]
     },
     "metadata": {
      "needs_background": "light"
     },
     "output_type": "display_data"
    },
    {
     "data": {
      "image/png": "[encoded data removed]",
      "text/plain": [
       "<Figure size 432x288 with 1 Axes>"
      ]
     },
     "metadata": {
      "needs_background": "light"
     },
     "output_type": "display_data"
    },
    {
     "name": "stdout",
     "output_type": "stream",
     "text": [
      "[[0.         0.14934919 0.03783164 0.00903525]\n",
      " [0.14934919 0.         0.47426889 0.03783164]\n",
      " [0.03783164 0.47426889 0.         0.14934919]\n",
      " [0.00903525 0.03783164 0.14934919 0.        ]]\n"
     ]
    }
   ],
   "source": [
    "plt.scatter(euc_dis_original, euc_dis_mod)\n",
    "plt.show()\n",
    "\n",
    "plt.plot(euc_dis_original, euc_dis_mod)\n",
    "plt.show()\n",
    "\n",
    "print(euc_dis_original-euc_dis_mod)\n"
   ]
  },
  {
   "cell_type": "code",
   "execution_count": null,
   "metadata": {},
   "outputs": [],
   "source": []
  }
 ],
 "metadata": {
  "kernelspec": {
   "display_name": "Python 3",
   "language": "python",
   "name": "python3"
  },
  "language_info": {
   "codemirror_mode": {
    "name": "ipython",
    "version": 3
   },
   "file_extension": ".py",
   "mimetype": "text/x-python",
   "name": "python",
   "nbconvert_exporter": "python",
   "pygments_lexer": "ipython3",
   "version": "3.7.1"
  }
 },
 "nbformat": 4,
 "nbformat_minor": 2
}
